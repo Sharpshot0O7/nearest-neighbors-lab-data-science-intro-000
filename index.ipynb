{
 "cells": [
  {
   "cell_type": "markdown",
   "metadata": {},
   "source": [
    "# Nearest Neighbors Lab"
   ]
  },
  {
   "cell_type": "markdown",
   "metadata": {},
   "source": [
    "### Introduction\n",
    "\n",
    "In this lab, you apply nearest neighbors technique to help a taxi company predict the length of their rides.  Imagine that we are hired to consult for LiftOff, a limo and taxi service that is just opening up in NYC.  Liftoff wants it's taxi drivers to target longer rides, as the longer the ride the more money it makes.  LiftOff has the following theory:\n",
    "\n",
    "* the pickup location of a taxi ride can help predict the length of the ride.  \n",
    "\n",
    "\n",
    "\n",
    "LiftOff asks us to do some analysis to write a function that will allow it to **predict the length of a taxi ride for any given location **.\n",
    "\n",
    "Our technique will be the following:\n",
    "  * **Collect** Obtain the data containing all of the taxi information, and only select the attributes of taxi trips that we need \n",
    "  * ** Explore ** Examine the attributes of our data, and plot some of our data on a map\n",
    "  * ** Train ** Write our nearest neighbors formula, and change the number of nearby trips to predict the length of a new trip\n",
    "  * ** Predict ** Use our function to predict trip lengths of new locations"
   ]
  },
  {
   "cell_type": "markdown",
   "metadata": {},
   "source": [
    "### Collect and Explore the data"
   ]
  },
  {
   "cell_type": "markdown",
   "metadata": {},
   "source": [
    "#### Collect the Data"
   ]
  },
  {
   "cell_type": "markdown",
   "metadata": {},
   "source": [
    "Luckily for us, [NYC Open Data](https://opendata.cityofnewyork.us/) collects information about NYC taxi trips and provides this data on [its website](https://data.cityofnewyork.us/Transportation/2014-Yellow-Taxi-Trip-Data/gn7m-em8n)."
   ]
  },
  {
   "cell_type": "markdown",
   "metadata": {},
   "source": [
    "![](./nyc-taxi.png)"
   ]
  },
  {
   "cell_type": "markdown",
   "metadata": {},
   "source": [
    "For your reading pleasure, the data has already been downloaded into the [trips.json](https://github.com/learn-co-curriculum/nearest-neighbors-lab/blob/master/trips.json) file in this lab which you can find here.  We'll use Python's `json` library to take the data from the `trips.json` file and store it as a variable in our notebook."
   ]
  },
  {
   "cell_type": "code",
   "execution_count": 1,
   "metadata": {},
   "outputs": [],
   "source": [
    "import json\n",
    "# First, read the file\n",
    "trips_file = open('trips.json')\n",
    "# Then, convert contents to list of dictionaries \n",
    "trips = json.load(trips_file)"
   ]
  },
  {
   "cell_type": "markdown",
   "metadata": {},
   "source": [
    "> Press shift + enter"
   ]
  },
  {
   "cell_type": "markdown",
   "metadata": {},
   "source": [
    "#### Explore the data"
   ]
  },
  {
   "cell_type": "markdown",
   "metadata": {},
   "source": [
    "The next step is to explore the data.  First, let's see how many trips we have."
   ]
  },
  {
   "cell_type": "code",
   "execution_count": 2,
   "metadata": {},
   "outputs": [
    {
     "data": {
      "text/plain": [
       "1000"
      ]
     },
     "execution_count": 2,
     "metadata": {},
     "output_type": "execute_result"
    }
   ],
   "source": [
    "len(trips)"
   ]
  },
  {
   "cell_type": "markdown",
   "metadata": {},
   "source": [
    "Not bad at all.  Now let's see what each individual trip looks like.  Each trip is a dictionary, so we can see the attributes of each trip with the `keys` function."
   ]
  },
  {
   "cell_type": "code",
   "execution_count": 3,
   "metadata": {
    "scrolled": true
   },
   "outputs": [
    {
     "data": {
      "text/plain": [
       "dict_keys(['dropoff_datetime', 'dropoff_latitude', 'dropoff_longitude', 'fare_amount', 'imp_surcharge', 'mta_tax', 'passenger_count', 'payment_type', 'pickup_datetime', 'pickup_latitude', 'pickup_longitude', 'rate_code', 'tip_amount', 'tolls_amount', 'total_amount', 'trip_distance', 'vendor_id'])"
      ]
     },
     "execution_count": 3,
     "metadata": {},
     "output_type": "execute_result"
    }
   ],
   "source": [
    "trips[0].keys()"
   ]
  },
  {
   "cell_type": "markdown",
   "metadata": {},
   "source": [
    "#### Limit our data"
   ]
  },
  {
   "cell_type": "markdown",
   "metadata": {},
   "source": [
    "Ok, now that we have explored some of our data, let's begin to think through what data is relevant for our task."
   ]
  },
  {
   "cell_type": "markdown",
   "metadata": {
    "collapsed": true
   },
   "source": [
    "Remember that our task is to **use the trip location to predict the length of a trip**.  So let's select the `pickup_latitude`, `pickup_longitude`, and `trip_distance` from each trip.  That will give us the trip location and related `trip_distance` for each trip.  Then based on these **actual** trip distances we can use nearest neighbors to predict an **expected** trip distance for a trip, provided an **actual** location."
   ]
  },
  {
   "cell_type": "markdown",
   "metadata": {},
   "source": [
    "** Add in about trip distance ** "
   ]
  },
  {
   "cell_type": "markdown",
   "metadata": {},
   "source": [
    "Write a function called `parse_trips(trips)` that returns a list of the trips with only the following attributes: \n",
    "* `trip_distance`\n",
    "* `pickup_latitude`\n",
    "* `pickup_longitude`"
   ]
  },
  {
   "cell_type": "code",
   "execution_count": 4,
   "metadata": {},
   "outputs": [],
   "source": [
    "def parse_trips(trips):\n",
    "    \n",
    "    trip = []\n",
    "    for index in range(0, len(trips)):\n",
    "        trip.append({key: trips[index][key] for key in trips[index].keys() \n",
    "            & {'trip_distance', 'pickup_latitude', 'pickup_longitude'}})\n",
    "        \n",
    "    return list(trip)"
   ]
  },
  {
   "cell_type": "code",
   "execution_count": 5,
   "metadata": {},
   "outputs": [
    {
     "data": {
      "text/plain": [
       "{'pickup_latitude': '40.64499',\n",
       " 'trip_distance': '18.379999999999999',\n",
       " 'pickup_longitude': '-73.781149999999997'}"
      ]
     },
     "execution_count": 5,
     "metadata": {},
     "output_type": "execute_result"
    }
   ],
   "source": [
    "parsed_trips = parse_trips(trips)\n",
    "parsed_trips and parsed_trips[0]\n",
    "\n",
    "\n",
    "# {'pickup_latitude': '40.64499',\n",
    "#  'pickup_longitude': '-73.78115',\n",
    "#  'trip_distance': '18.38'}"
   ]
  },
  {
   "cell_type": "markdown",
   "metadata": {},
   "source": [
    "Now, there's just one change to make.  If you look at one of the trips, all of the values are strings.  Let's change them to be floats."
   ]
  },
  {
   "cell_type": "code",
   "execution_count": 6,
   "metadata": {},
   "outputs": [],
   "source": [
    "def float_values(trips):\n",
    "    for x in parsed_trips:\n",
    "        for index in x:\n",
    "            x[index] = float(x[index])\n",
    "    return parsed_trips"
   ]
  },
  {
   "cell_type": "code",
   "execution_count": 7,
   "metadata": {},
   "outputs": [],
   "source": [
    "cleaned_trips = float_values(parsed_trips)"
   ]
  },
  {
   "cell_type": "code",
   "execution_count": 8,
   "metadata": {},
   "outputs": [
    {
     "data": {
      "text/plain": [
       "{'pickup_latitude': 40.64499,\n",
       " 'trip_distance': 18.38,\n",
       " 'pickup_longitude': -73.78115}"
      ]
     },
     "execution_count": 8,
     "metadata": {},
     "output_type": "execute_result"
    }
   ],
   "source": [
    "cleaned_trips[0]\n",
    "\n",
    "# {'pickup_latitude': 40.64499,\n",
    "#  'pickup_longitude': -73.78115,\n",
    "#  'trip_distance': 18.38}"
   ]
  },
  {
   "cell_type": "markdown",
   "metadata": {},
   "source": [
    "### Exploring the Data"
   ]
  },
  {
   "cell_type": "markdown",
   "metadata": {},
   "source": [
    "Now that we have paired down our data, let's get a sense of our trip data.  We can use the `folium` Python library to plot a map of Manhattan, and our data.  First we must import `folium`, and then use the `Map` function to pass through a `location`, and `zoom_start`.  If a map isn't showing up below, copy and paste the command `pip install -r requirements.txt` into your terminal to install `folium` then try again."
   ]
  },
  {
   "cell_type": "code",
   "execution_count": 9,
   "metadata": {},
   "outputs": [],
   "source": [
    "import folium\n",
    "manhattan_map = folium.Map(location=[40.7589, -73.9851], zoom_start=11)"
   ]
  },
  {
   "cell_type": "code",
   "execution_count": 10,
   "metadata": {
    "scrolled": true
   },
   "outputs": [
    {
     "data": {
      "text/html": [
       "<div style=\"width:100%;\"><div style=\"position:relative;width:100%;height:0;padding-bottom:60%;\"><iframe src=\"data:text/html;charset=utf-8;base64,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\" style=\"position:absolute;width:100%;height:100%;left:0;top:0;border:none !important;\" allowfullscreen webkitallowfullscreen mozallowfullscreen></iframe></div></div>"
      ],
      "text/plain": [
       "<folium.folium.Map at 0x7f31189aa7b8>"
      ]
     },
     "execution_count": 10,
     "metadata": {},
     "output_type": "execute_result"
    }
   ],
   "source": [
    "manhattan_map"
   ]
  },
  {
   "cell_type": "markdown",
   "metadata": {},
   "source": [
    "Ok, now let's see how we could add a dot to mark a specific location.  We'll start with Times Square."
   ]
  },
  {
   "cell_type": "code",
   "execution_count": 11,
   "metadata": {},
   "outputs": [
    {
     "data": {
      "text/plain": [
       "<folium.vector_layers.CircleMarker at 0x7f30e71c7d68>"
      ]
     },
     "execution_count": 11,
     "metadata": {},
     "output_type": "execute_result"
    }
   ],
   "source": [
    "marker = folium.CircleMarker(location = [40.7589, -73.9851], radius=10)\n",
    "marker.add_to(manhattan_map)"
   ]
  },
  {
   "cell_type": "markdown",
   "metadata": {},
   "source": [
    "Above, we first create a marker.  Then we add that circle marker to the `manhattan_map` we created earlier. "
   ]
  },
  {
   "cell_type": "code",
   "execution_count": 12,
   "metadata": {
    "scrolled": false
   },
   "outputs": [
    {
     "data": {
      "text/html": [
       "<div style=\"width:100%;\"><div style=\"position:relative;width:100%;height:0;padding-bottom:60%;\"><iframe src=\"data:text/html;charset=utf-8;base64,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\" style=\"position:absolute;width:100%;height:100%;left:0;top:0;border:none !important;\" allowfullscreen webkitallowfullscreen mozallowfullscreen></iframe></div></div>"
      ],
      "text/plain": [
       "<folium.folium.Map at 0x7f31189aa7b8>"
      ]
     },
     "execution_count": 12,
     "metadata": {},
     "output_type": "execute_result"
    }
   ],
   "source": [
    "manhattan_map"
   ]
  },
  {
   "cell_type": "markdown",
   "metadata": {},
   "source": [
    "Do you see that blue dot near Time's Square?  That is our marker.  \n",
    "\n",
    "So now that we can plot one marker on a map, we should have a sense of how we can plot many markers on a map to display our taxi ride data.  We simply plot a map, and then we add a marker for each location of a taxi trip.\n",
    "\n",
    "Now let's write some functions to allow us to plot maps and add markers a little more easily.  "
   ]
  },
  {
   "cell_type": "markdown",
   "metadata": {},
   "source": [
    "#### Writing some map plotting functions"
   ]
  },
  {
   "cell_type": "markdown",
   "metadata": {},
   "source": [
    "As a first step towards this, note that the functions to create both a marker and map each take in a location as two element list, representing the latitude and longitude values.  Take another look:\n",
    "\n",
    "```python\n",
    "marker = folium.CircleMarker(location = [40.7589, -73.9851])\n",
    "manhattan_map = folium.Map(location=[40.7589, -73.9851])\n",
    "```\n",
    "\n",
    "So let's write a function called to create this two element list from a trip.  Write a function called `location` that  takes in a trip as an argument and returns a list where the first element is the latitude and the second is the longitude.  Remember that a location looks like the following:"
   ]
  },
  {
   "cell_type": "code",
   "execution_count": 15,
   "metadata": {},
   "outputs": [
    {
     "data": {
      "text/plain": [
       "{'pickup_latitude': 40.64499,\n",
       " 'pickup_longitude': -73.78115,\n",
       " 'trip_distance': 18.38}"
      ]
     },
     "execution_count": 15,
     "metadata": {},
     "output_type": "execute_result"
    }
   ],
   "source": [
    "first_trip = {'pickup_latitude': 40.64499, 'pickup_longitude': -73.78115,  'trip_distance': 18.38}\n",
    "first_trip"
   ]
  },
  {
   "cell_type": "code",
   "execution_count": 16,
   "metadata": {},
   "outputs": [],
   "source": [
    "def location(trip):\n",
    "    trip_location = []\n",
    "    for x in cleaned_trips:\n",
    "        trip_location.appenlist(map(lambda trip: trip['pickup_latitude'],cleaned_trips))\n",
    "    \n",
    "    return trip_location"
   ]
  },
  {
   "cell_type": "code",
   "execution_count": 17,
   "metadata": {},
   "outputs": [
    {
     "data": {
      "text/plain": [
       "[40.64499,\n",
       " 40.766931,\n",
       " 40.77773,\n",
       " 40.795678,\n",
       " 40.762912,\n",
       " 40.731176,\n",
       " 40.800219,\n",
       " 40.648509,\n",
       " 40.721897,\n",
       " 40.791566,\n",
       " 40.744896,\n",
       " 40.721951,\n",
       " 40.732382,\n",
       " 40.768339,\n",
       " 40.775933,\n",
       " 40.794829,\n",
       " 40.758647,\n",
       " 40.713638,\n",
       " 40.77403,\n",
       " 40.728127,\n",
       " 40.759671,\n",
       " 40.772651,\n",
       " 40.770319,\n",
       " 40.720457,\n",
       " 40.754789,\n",
       " 40.755654,\n",
       " 40.741568,\n",
       " 40.736907,\n",
       " 40.76003,\n",
       " 40.721366,\n",
       " 40.760147,\n",
       " 40.745847,\n",
       " 40.753015,\n",
       " 40.644657,\n",
       " 40.738767,\n",
       " 40.773797,\n",
       " 40.743411,\n",
       " 40.758905,\n",
       " 40.733877,\n",
       " 40.726162,\n",
       " 40.775122,\n",
       " 40.75987,\n",
       " 40.707087,\n",
       " 40.741912,\n",
       " 40.769112,\n",
       " 40.785807,\n",
       " 40.7513,\n",
       " 40.733385,\n",
       " 40.760257,\n",
       " 40.741249,\n",
       " 40.759795,\n",
       " 40.756636,\n",
       " 40.73925,\n",
       " 40.751055,\n",
       " 40.723584,\n",
       " 40.757037,\n",
       " 40.743385,\n",
       " 40.737486,\n",
       " 40.77225,\n",
       " 40.732882,\n",
       " 40.774567,\n",
       " 40.757437,\n",
       " 40.789637,\n",
       " 40.754317,\n",
       " 40.745007,\n",
       " 40.734982,\n",
       " 0.0,\n",
       " 40.738617,\n",
       " 40.790712,\n",
       " 40.750167,\n",
       " 40.732141,\n",
       " 40.765758,\n",
       " 40.792594,\n",
       " 40.762908,\n",
       " 40.750722,\n",
       " 40.769887,\n",
       " 40.77247,\n",
       " 40.764545,\n",
       " 40.641805,\n",
       " 40.75224,\n",
       " 40.758835,\n",
       " 40.722785,\n",
       " 40.720338,\n",
       " 40.72973,\n",
       " 40.760442,\n",
       " 40.756227,\n",
       " 40.751555,\n",
       " 40.71333,\n",
       " 40.764762,\n",
       " 40.763353,\n",
       " 40.775292,\n",
       " 40.779515,\n",
       " 40.768322,\n",
       " 40.766602,\n",
       " 40.763684,\n",
       " 40.793086,\n",
       " 40.773602,\n",
       " 40.771909,\n",
       " 40.774029,\n",
       " 40.74964,\n",
       " 40.771542,\n",
       " 40.694095,\n",
       " 40.756312,\n",
       " 40.730282,\n",
       " 40.777707,\n",
       " 40.726087,\n",
       " 40.738385,\n",
       " 40.7678,\n",
       " 40.742682,\n",
       " 40.770602,\n",
       " 40.747967,\n",
       " 40.742803,\n",
       " 40.755521,\n",
       " 40.760528,\n",
       " 40.740732,\n",
       " 40.735497,\n",
       " 40.715387,\n",
       " 40.721587,\n",
       " 40.760057,\n",
       " 40.740332,\n",
       " 40.7455,\n",
       " 40.733125,\n",
       " 40.752092,\n",
       " 40.72381,\n",
       " 40.767446,\n",
       " 40.800479,\n",
       " 40.717055,\n",
       " 40.748863,\n",
       " 40.80474,\n",
       " 40.762202,\n",
       " 0.0,\n",
       " 40.740407,\n",
       " 40.722399,\n",
       " 40.747572,\n",
       " 40.794651,\n",
       " 40.751087,\n",
       " 40.719886,\n",
       " 40.760887,\n",
       " 40.727514,\n",
       " 40.774453,\n",
       " 40.741907,\n",
       " 40.735118,\n",
       " 40.773907,\n",
       " 40.758937,\n",
       " 40.752144,\n",
       " 40.745642,\n",
       " 40.71879,\n",
       " 40.739945,\n",
       " 40.777575,\n",
       " 40.753632,\n",
       " 40.74733,\n",
       " 40.769822,\n",
       " 40.724658,\n",
       " 40.758345,\n",
       " 40.764807,\n",
       " 40.772847,\n",
       " 40.793682,\n",
       " 40.760007,\n",
       " 40.747252,\n",
       " 40.756392,\n",
       " 40.763685,\n",
       " 40.767068,\n",
       " 40.77596,\n",
       " 40.739617,\n",
       " 40.751953,\n",
       " 40.718635,\n",
       " 40.7331,\n",
       " 40.77463,\n",
       " 40.753675,\n",
       " 40.763262,\n",
       " 40.768895,\n",
       " 40.641375,\n",
       " 40.745472,\n",
       " 40.707562,\n",
       " 40.75331,\n",
       " 40.769545,\n",
       " 40.77411,\n",
       " 40.720615,\n",
       " 40.76305,\n",
       " 40.648605,\n",
       " 40.730875,\n",
       " 40.763843,\n",
       " 40.759867,\n",
       " 40.77302,\n",
       " 40.767437,\n",
       " 40.7951,\n",
       " 40.78045,\n",
       " 40.777608,\n",
       " 40.783897,\n",
       " 40.738437,\n",
       " 40.766227,\n",
       " 40.7472,\n",
       " 40.729602,\n",
       " 40.747295,\n",
       " 40.764276,\n",
       " 40.717463,\n",
       " 40.756667,\n",
       " 40.723036,\n",
       " 40.742832,\n",
       " 40.759825,\n",
       " 40.770567,\n",
       " 40.743565,\n",
       " 40.761372,\n",
       " 40.725012,\n",
       " 40.751251,\n",
       " 40.742522,\n",
       " 40.762107,\n",
       " 40.787171,\n",
       " 40.739887,\n",
       " 40.775297,\n",
       " 40.743232,\n",
       " 40.757386,\n",
       " 40.749027,\n",
       " 40.752385,\n",
       " 40.721988,\n",
       " 40.742422,\n",
       " 40.735396,\n",
       " 40.749873,\n",
       " 40.779447,\n",
       " 40.730843,\n",
       " 40.750116,\n",
       " 40.701734,\n",
       " 40.72635,\n",
       " 40.688702,\n",
       " 40.771385,\n",
       " 40.715884,\n",
       " 40.790046,\n",
       " 40.76418,\n",
       " 40.76041,\n",
       " 40.745647,\n",
       " 40.793261,\n",
       " 40.762111,\n",
       " 40.74733,\n",
       " 40.74886,\n",
       " 40.730145,\n",
       " 40.75318,\n",
       " 40.829557,\n",
       " 40.743102,\n",
       " 40.750445,\n",
       " 40.743475,\n",
       " 40.762752,\n",
       " 40.765577,\n",
       " 40.750027,\n",
       " 40.751947,\n",
       " 40.71972,\n",
       " 40.78079,\n",
       " 40.751607,\n",
       " 40.745595,\n",
       " 40.72245,\n",
       " 40.702557,\n",
       " 40.734659,\n",
       " 40.764774,\n",
       " 40.723516,\n",
       " 40.781072,\n",
       " 40.793005,\n",
       " 40.721025,\n",
       " 40.768497,\n",
       " 40.80726,\n",
       " 40.773715,\n",
       " 40.780082,\n",
       " 40.741824,\n",
       " 40.742112,\n",
       " 40.725925,\n",
       " 40.645718,\n",
       " 40.718398,\n",
       " 0.0,\n",
       " 40.736343,\n",
       " 40.753827,\n",
       " 40.750693,\n",
       " 40.745964,\n",
       " 40.740482,\n",
       " 0.0,\n",
       " 40.803842,\n",
       " 40.797632,\n",
       " 40.645322,\n",
       " 40.749207,\n",
       " 40.765548,\n",
       " 40.760289,\n",
       " 40.778967,\n",
       " 40.7582,\n",
       " 40.730709,\n",
       " 40.7456,\n",
       " 40.719471,\n",
       " 40.75619,\n",
       " 40.639542,\n",
       " 40.78366,\n",
       " 40.7464,\n",
       " 40.727475,\n",
       " 40.735015,\n",
       " 0.0,\n",
       " 0.0,\n",
       " 40.754176,\n",
       " 40.740112,\n",
       " 40.719972,\n",
       " 40.70517,\n",
       " 40.789142,\n",
       " 40.749115,\n",
       " 40.76443,\n",
       " 40.756477,\n",
       " 40.746142,\n",
       " 40.747856,\n",
       " 40.772615,\n",
       " 40.761912,\n",
       " 40.740991,\n",
       " 40.764115,\n",
       " 40.728808,\n",
       " 40.725511,\n",
       " 40.768967,\n",
       " 40.75652,\n",
       " 40.751217,\n",
       " 40.779557,\n",
       " 40.771472,\n",
       " 40.73832,\n",
       " 40.643172,\n",
       " 40.769387,\n",
       " 40.731752,\n",
       " 40.745874,\n",
       " 40.767867,\n",
       " 40.766245,\n",
       " 40.753485,\n",
       " 40.726597,\n",
       " 40.7446,\n",
       " 40.756806,\n",
       " 40.783447,\n",
       " 40.758985,\n",
       " 40.645316,\n",
       " 40.762868,\n",
       " 40.761322,\n",
       " 40.771097,\n",
       " 40.760195,\n",
       " 40.73286,\n",
       " 40.75952,\n",
       " 40.821517,\n",
       " 40.734922,\n",
       " 40.757594,\n",
       " 40.748042,\n",
       " 40.74957,\n",
       " 40.759663,\n",
       " 40.756397,\n",
       " 40.68078,\n",
       " 40.749994,\n",
       " 40.801351,\n",
       " 40.766223,\n",
       " 40.740045,\n",
       " 40.801657,\n",
       " 40.738722,\n",
       " 40.742172,\n",
       " 40.775633,\n",
       " 40.792377,\n",
       " 40.659956,\n",
       " 40.7655,\n",
       " 40.737997,\n",
       " 40.711467,\n",
       " 0.0,\n",
       " 40.710822,\n",
       " 40.763597,\n",
       " 40.744277,\n",
       " 40.774152,\n",
       " 40.773736,\n",
       " 40.740018,\n",
       " 40.750094,\n",
       " 40.741317,\n",
       " 40.75885,\n",
       " 40.687077,\n",
       " 40.76705,\n",
       " 40.72257,\n",
       " 40.77958,\n",
       " 40.7385,\n",
       " 40.770377,\n",
       " 40.75906,\n",
       " 40.689827,\n",
       " 40.766367,\n",
       " 40.717302,\n",
       " 40.642817,\n",
       " 40.766804,\n",
       " 40.762317,\n",
       " 40.734099,\n",
       " 40.770737,\n",
       " 40.724919,\n",
       " 40.729687,\n",
       " 40.744083,\n",
       " 40.726413,\n",
       " 40.794009,\n",
       " 40.74589,\n",
       " 40.75284,\n",
       " 40.777652,\n",
       " 40.726935,\n",
       " 40.74969,\n",
       " 40.709355,\n",
       " 40.750099,\n",
       " 40.777513,\n",
       " 40.64534,\n",
       " 40.794572,\n",
       " 40.76084,\n",
       " 40.758902,\n",
       " 40.756082,\n",
       " 40.746631,\n",
       " 40.787612,\n",
       " 40.748875,\n",
       " 0.0,\n",
       " 40.734924,\n",
       " 40.755682,\n",
       " 40.757465,\n",
       " 40.751163,\n",
       " 40.754707,\n",
       " 40.768512,\n",
       " 40.770792,\n",
       " 40.780672,\n",
       " 40.733568,\n",
       " 40.74998,\n",
       " 40.72235,\n",
       " 40.77081,\n",
       " 40.771152,\n",
       " 40.790777,\n",
       " 40.716232,\n",
       " 40.74277,\n",
       " 40.726791,\n",
       " 40.774935,\n",
       " 40.752832,\n",
       " 40.732783,\n",
       " 40.75176,\n",
       " 40.772827,\n",
       " 40.786305,\n",
       " 40.71986,\n",
       " 40.748193,\n",
       " 40.734642,\n",
       " 40.758495,\n",
       " 40.750711,\n",
       " 40.751085,\n",
       " 40.696647,\n",
       " 40.766092,\n",
       " 40.77293,\n",
       " 40.644032,\n",
       " 40.758261,\n",
       " 40.778392,\n",
       " 40.758372,\n",
       " 40.752788,\n",
       " 40.741972,\n",
       " 40.764972,\n",
       " 40.742227,\n",
       " 40.743594,\n",
       " 40.774852,\n",
       " 40.786657,\n",
       " 40.731236,\n",
       " 40.724197,\n",
       " 40.735687,\n",
       " 40.724007,\n",
       " 40.751962,\n",
       " 40.744422,\n",
       " 40.76944,\n",
       " 40.755972,\n",
       " 40.782482,\n",
       " 40.739142,\n",
       " 40.752412,\n",
       " 0.0,\n",
       " 40.771168,\n",
       " 40.756005,\n",
       " 40.778415,\n",
       " 40.766653,\n",
       " 40.746032,\n",
       " 40.763352,\n",
       " 40.755782,\n",
       " 40.769837,\n",
       " 40.773009,\n",
       " 40.799458,\n",
       " 40.777555,\n",
       " 40.80409,\n",
       " 40.713948,\n",
       " 40.741453,\n",
       " 40.79858,\n",
       " 40.721519,\n",
       " 40.744341,\n",
       " 40.750106,\n",
       " 40.815817,\n",
       " 40.772255,\n",
       " 40.756412,\n",
       " 40.729556,\n",
       " 40.774627,\n",
       " 40.744418,\n",
       " 40.795953,\n",
       " 40.735785,\n",
       " 40.741275,\n",
       " 40.759037,\n",
       " 40.7642,\n",
       " 40.779383,\n",
       " 40.72638,\n",
       " 40.716736,\n",
       " 40.751872,\n",
       " 40.774462,\n",
       " 40.748208,\n",
       " 40.756054,\n",
       " 40.759193,\n",
       " 40.7439,\n",
       " 40.712612,\n",
       " 40.751285,\n",
       " 40.75262,\n",
       " 40.728885,\n",
       " 40.753302,\n",
       " 40.759795,\n",
       " 40.727368,\n",
       " 40.7595,\n",
       " 40.751837,\n",
       " 40.742032,\n",
       " 40.755123,\n",
       " 40.726783,\n",
       " 40.768924,\n",
       " 40.748232,\n",
       " 40.70205,\n",
       " 40.763197,\n",
       " 40.720794,\n",
       " 40.760644,\n",
       " 40.743367,\n",
       " 40.749792,\n",
       " 40.754807,\n",
       " 40.64483,\n",
       " 40.767759,\n",
       " 40.762243,\n",
       " 40.730735,\n",
       " 40.738672,\n",
       " 40.774752,\n",
       " 40.777867,\n",
       " 40.742502,\n",
       " 40.76532,\n",
       " 40.722856,\n",
       " 40.777252,\n",
       " 40.740912,\n",
       " 40.798562,\n",
       " 40.71422,\n",
       " 40.748567,\n",
       " 40.757222,\n",
       " 40.751325,\n",
       " 40.729357,\n",
       " 40.767302,\n",
       " 40.793391,\n",
       " 40.642527,\n",
       " 40.758769,\n",
       " 40.72184,\n",
       " 40.721116,\n",
       " 40.75085,\n",
       " 40.701535,\n",
       " 40.76495,\n",
       " 0.0,\n",
       " 40.74892,\n",
       " 40.77908,\n",
       " 40.646587,\n",
       " 40.739812,\n",
       " 40.728841,\n",
       " 40.752327,\n",
       " 40.732893,\n",
       " 40.769041,\n",
       " 40.782595,\n",
       " 40.744757,\n",
       " 40.752422,\n",
       " 40.760963,\n",
       " 40.68118,\n",
       " 40.758312,\n",
       " 40.71897,\n",
       " 40.723912,\n",
       " 40.756415,\n",
       " 40.751115,\n",
       " 40.785935,\n",
       " 40.760434,\n",
       " 40.71597,\n",
       " 40.76767,\n",
       " 40.771907,\n",
       " 40.778537,\n",
       " 40.73111,\n",
       " 40.755756,\n",
       " 40.791595,\n",
       " 40.750117,\n",
       " 40.71242,\n",
       " 40.761311,\n",
       " 40.71592,\n",
       " 40.712097,\n",
       " 40.729574,\n",
       " 40.75377,\n",
       " 40.72269,\n",
       " 40.722982,\n",
       " 40.773595,\n",
       " 40.767875,\n",
       " 40.768197,\n",
       " 40.745547,\n",
       " 40.768712,\n",
       " 40.757889,\n",
       " 40.72067,\n",
       " 40.763362,\n",
       " 40.75185,\n",
       " 40.73385,\n",
       " 40.768718,\n",
       " 40.787222,\n",
       " 40.782367,\n",
       " 40.751801,\n",
       " 40.756307,\n",
       " 40.755034,\n",
       " 40.712003,\n",
       " 40.750283,\n",
       " 40.740555,\n",
       " 40.798792,\n",
       " 40.715947,\n",
       " 40.70746,\n",
       " 40.76306,\n",
       " 40.707022,\n",
       " 40.760955,\n",
       " 40.758719,\n",
       " 40.763425,\n",
       " 40.743667,\n",
       " 40.743297,\n",
       " 40.748887,\n",
       " 40.74506,\n",
       " 40.783298,\n",
       " 40.79338,\n",
       " 40.759725,\n",
       " 40.789342,\n",
       " 40.717302,\n",
       " 40.759305,\n",
       " 40.75966,\n",
       " 40.763645,\n",
       " 40.75375,\n",
       " 40.754554,\n",
       " 40.733659,\n",
       " 40.747263,\n",
       " 0.0,\n",
       " 40.789094,\n",
       " 40.77409,\n",
       " 40.744275,\n",
       " 40.739702,\n",
       " 40.75873,\n",
       " 40.749452,\n",
       " 40.754753,\n",
       " 40.751248,\n",
       " 40.709411,\n",
       " 40.783943,\n",
       " 40.754177,\n",
       " 40.762551,\n",
       " 40.709595,\n",
       " 40.75531,\n",
       " 40.744349,\n",
       " 40.767895,\n",
       " 40.754248,\n",
       " 40.754852,\n",
       " 40.774487,\n",
       " 40.779426,\n",
       " 40.767777,\n",
       " 40.77365,\n",
       " 40.750417,\n",
       " 40.737117,\n",
       " 40.738447,\n",
       " 40.75681,\n",
       " 40.788362,\n",
       " 40.742219,\n",
       " 40.747881,\n",
       " 40.763835,\n",
       " 40.778885,\n",
       " 40.76556,\n",
       " 40.745032,\n",
       " 40.736197,\n",
       " 40.758157,\n",
       " 40.719997,\n",
       " 40.752447,\n",
       " 40.714814,\n",
       " 40.754756,\n",
       " 40.799892,\n",
       " 40.759859,\n",
       " 40.689592,\n",
       " 40.776253,\n",
       " 40.749577,\n",
       " 40.777566,\n",
       " 40.749747,\n",
       " 40.742145,\n",
       " 40.746859,\n",
       " 40.7699,\n",
       " 40.737429,\n",
       " 40.76952,\n",
       " 40.7169,\n",
       " 40.718208,\n",
       " 40.775985,\n",
       " 40.774893,\n",
       " 40.750512,\n",
       " 40.73824,\n",
       " 40.749935,\n",
       " 40.759445,\n",
       " 40.725862,\n",
       " 40.720402,\n",
       " 40.725668,\n",
       " 40.761712,\n",
       " 40.767342,\n",
       " 40.751985,\n",
       " 40.725807,\n",
       " 40.798907,\n",
       " 40.763502,\n",
       " 40.76514,\n",
       " 40.725613,\n",
       " 40.787654,\n",
       " 40.749559,\n",
       " 40.746946,\n",
       " 40.750173,\n",
       " 40.743896,\n",
       " 40.767159,\n",
       " 40.777596,\n",
       " 40.74933,\n",
       " 40.758162,\n",
       " 40.75726,\n",
       " 40.752815,\n",
       " 40.734912,\n",
       " 40.76102,\n",
       " 40.704517,\n",
       " 40.760057,\n",
       " 40.80307,\n",
       " 40.755706,\n",
       " 40.774172,\n",
       " 40.757185,\n",
       " 40.750685,\n",
       " 40.75321,\n",
       " 40.771724,\n",
       " 40.72224,\n",
       " 40.765242,\n",
       " 40.776315,\n",
       " 40.761082,\n",
       " 40.76559,\n",
       " 40.719963,\n",
       " 40.732639,\n",
       " 40.718726,\n",
       " 40.774015,\n",
       " 40.750555,\n",
       " 40.741115,\n",
       " 40.727002,\n",
       " 40.77177,\n",
       " 40.753392,\n",
       " 40.764207,\n",
       " 0.0,\n",
       " 40.774341,\n",
       " 40.756705,\n",
       " 40.728314,\n",
       " 40.73845,\n",
       " 40.763247,\n",
       " 40.741825,\n",
       " 40.7649,\n",
       " 40.744682,\n",
       " 40.717487,\n",
       " 40.729872,\n",
       " 40.745205,\n",
       " 40.773118,\n",
       " 40.744085,\n",
       " 40.800642,\n",
       " 40.770492,\n",
       " 40.751325,\n",
       " 40.764456,\n",
       " 40.763968,\n",
       " 40.745711,\n",
       " 40.78232,\n",
       " 40.722958,\n",
       " 40.690387,\n",
       " 40.761305,\n",
       " 40.754549,\n",
       " 40.77408,\n",
       " 40.735602,\n",
       " 40.772117,\n",
       " 40.736892,\n",
       " 40.705808,\n",
       " 40.797627,\n",
       " 40.745217,\n",
       " 40.776247,\n",
       " 40.780255,\n",
       " 40.77277,\n",
       " 40.772207,\n",
       " 40.758277,\n",
       " 40.721757,\n",
       " 40.74909,\n",
       " 40.753807,\n",
       " 40.771288,\n",
       " 40.715183,\n",
       " 40.77827,\n",
       " 40.774696,\n",
       " 40.74408,\n",
       " 40.720975,\n",
       " 40.73918,\n",
       " 40.764142,\n",
       " 40.725785,\n",
       " 40.773538,\n",
       " 40.726065,\n",
       " 40.728097,\n",
       " 40.745012,\n",
       " 40.774312,\n",
       " 40.761926,\n",
       " 40.7297,\n",
       " 40.76393,\n",
       " 40.78277,\n",
       " 40.759347,\n",
       " 40.725635,\n",
       " 40.751109,\n",
       " 40.73672,\n",
       " 40.74207,\n",
       " 40.75857,\n",
       " 40.727227,\n",
       " 40.741078,\n",
       " 40.748019,\n",
       " 40.762081,\n",
       " 40.746683,\n",
       " 40.75576,\n",
       " 40.737382,\n",
       " 40.773777,\n",
       " 40.762767,\n",
       " 40.788335,\n",
       " 40.708292,\n",
       " 40.737012,\n",
       " 40.785612,\n",
       " 40.763332,\n",
       " 40.757283,\n",
       " 40.769862,\n",
       " 40.763994,\n",
       " 40.719707,\n",
       " 40.763028,\n",
       " 40.780782,\n",
       " 40.756066,\n",
       " 40.79712,\n",
       " 40.772652,\n",
       " 40.782582,\n",
       " 40.754822,\n",
       " 40.722532,\n",
       " 40.760442,\n",
       " 40.764282,\n",
       " 40.746333,\n",
       " 40.770377,\n",
       " 40.763152,\n",
       " 40.75781,\n",
       " 40.745593,\n",
       " 40.783545,\n",
       " 40.757605,\n",
       " 40.75899,\n",
       " 40.713662,\n",
       " 40.776252,\n",
       " 40.764,\n",
       " 40.74787,\n",
       " 40.748717,\n",
       " 40.771905,\n",
       " 40.783138,\n",
       " 40.75708,\n",
       " 40.848462,\n",
       " 40.744697,\n",
       " 40.768147,\n",
       " 40.741328,\n",
       " 40.77847,\n",
       " 40.782873,\n",
       " 40.78711,\n",
       " 40.762862,\n",
       " 40.78579,\n",
       " 40.782512,\n",
       " 40.771552,\n",
       " 40.759172,\n",
       " 40.740622,\n",
       " 40.750938,\n",
       " 40.77435,\n",
       " 40.77831,\n",
       " 40.760477,\n",
       " 40.77338,\n",
       " 40.760643,\n",
       " 40.68703,\n",
       " 40.77164,\n",
       " 40.764902,\n",
       " 40.767331,\n",
       " 40.77919,\n",
       " 40.763407,\n",
       " 40.751124,\n",
       " 40.73599,\n",
       " 40.761058,\n",
       " 40.745909,\n",
       " 40.744849,\n",
       " 40.750342,\n",
       " 40.763665,\n",
       " 40.765862,\n",
       " 40.75729,\n",
       " 40.763148,\n",
       " 40.70626,\n",
       " 40.782011,\n",
       " 40.671487,\n",
       " 40.753034,\n",
       " 40.744997,\n",
       " 40.721882,\n",
       " 40.752342,\n",
       " 40.709415,\n",
       " 40.755637,\n",
       " 40.780847,\n",
       " 40.73668,\n",
       " 40.707517,\n",
       " 40.73706,\n",
       " 40.769119,\n",
       " 40.750492,\n",
       " 40.779416,\n",
       " 40.779454,\n",
       " 40.773952,\n",
       " 40.756805,\n",
       " 40.766251,\n",
       " 40.747098,\n",
       " 40.774347,\n",
       " 40.73735,\n",
       " 40.755507,\n",
       " 0.0,\n",
       " 40.77734,\n",
       " 40.730313,\n",
       " 40.770965,\n",
       " 40.747897,\n",
       " 40.743013,\n",
       " 40.757036,\n",
       " 40.75083,\n",
       " 40.747865,\n",
       " 40.758215,\n",
       " 40.750687,\n",
       " 40.734432,\n",
       " 40.766799,\n",
       " 40.752133,\n",
       " 40.719627,\n",
       " 40.77012,\n",
       " 40.753714,\n",
       " 40.779378,\n",
       " 40.764967,\n",
       " 40.724772,\n",
       " 40.734817,\n",
       " 40.751752,\n",
       " 40.756564,\n",
       " 40.742736,\n",
       " 0.0,\n",
       " 40.741672,\n",
       " 40.72597,\n",
       " 40.743772,\n",
       " 40.71032,\n",
       " 40.710885,\n",
       " 40.768567,\n",
       " 40.755322,\n",
       " 40.750872,\n",
       " 40.691887,\n",
       " 40.753002,\n",
       " 40.765657,\n",
       " 40.718429,\n",
       " 40.75261,\n",
       " 40.774841,\n",
       " 40.820267,\n",
       " 40.749905,\n",
       " 40.790222,\n",
       " 40.751243,\n",
       " 40.769372,\n",
       " 40.802452,\n",
       " 40.740012,\n",
       " 40.724477,\n",
       " 40.649679,\n",
       " 40.763434,\n",
       " 40.813836,\n",
       " 40.748613,\n",
       " 40.756067,\n",
       " 40.751127,\n",
       " 40.757541,\n",
       " 40.783417,\n",
       " 40.755617,\n",
       " 40.770837,\n",
       " 40.770932,\n",
       " 40.742625,\n",
       " 40.767386,\n",
       " 40.729417,\n",
       " 0.0,\n",
       " 40.76026,\n",
       " 40.748453,\n",
       " 40.763605,\n",
       " 40.735872,\n",
       " 40.761363,\n",
       " 40.661145,\n",
       " 40.748542,\n",
       " 40.781112,\n",
       " 40.762465,\n",
       " 40.74805,\n",
       " 40.780242,\n",
       " 40.764726,\n",
       " 40.733294,\n",
       " 40.74976,\n",
       " 40.753168,\n",
       " 40.764099,\n",
       " 40.796757,\n",
       " 40.765015,\n",
       " 40.722397,\n",
       " 40.784722,\n",
       " 40.734082,\n",
       " 40.74772,\n",
       " 40.774329,\n",
       " 40.742366,\n",
       " 40.739342,\n",
       " 40.756363,\n",
       " 40.738254,\n",
       " 40.735046,\n",
       " 40.755857,\n",
       " 40.772357,\n",
       " 40.775272,\n",
       " 40.763642,\n",
       " 40.768787,\n",
       " 40.772327,\n",
       " 40.750617,\n",
       " 40.74049,\n",
       " 40.759067,\n",
       " 40.762444,\n",
       " 40.774087,\n",
       " 40.781736,\n",
       " 40.757812,\n",
       " 40.787172]"
      ]
     },
     "execution_count": 17,
     "metadata": {},
     "output_type": "execute_result"
    }
   ],
   "source": [
    "first_location = location(first_trip) # [40.64499, -73.78115]\n",
    "first_location # [40.64499, -73.78115]"
   ]
  },
  {
   "cell_type": "markdown",
   "metadata": {},
   "source": [
    "Ok, now that we can turn a trip into a location, let's turn a location into a marker.  Write a function called `to_marker` that takes in a location (in the form of a list) as an argument, and returns a folium `circleMarker` for that location.  The radius of the marker should always equal 6."
   ]
  },
  {
   "cell_type": "code",
   "execution_count": null,
   "metadata": {},
   "outputs": [],
   "source": [
    "def to_marker(location):\n",
    "    pass"
   ]
  },
  {
   "cell_type": "code",
   "execution_count": null,
   "metadata": {},
   "outputs": [],
   "source": [
    "import json\n",
    "times_square_marker = to_marker([40.7589, -73.9851])\n",
    "\n",
    "times_square_marker and times_square_marker.location # [40.7589, -73.9851]\n",
    "times_square_marker and json.loads(times_square_marker.options)['radius'] # 6"
   ]
  },
  {
   "cell_type": "markdown",
   "metadata": {},
   "source": [
    "Ok, now that we know how to produce a single marker, let's write a function to produce lots.  We can write a function called `markers_from_trips` that takes in a list of trips, and returns a marker object for each trip.  "
   ]
  },
  {
   "cell_type": "code",
   "execution_count": null,
   "metadata": {},
   "outputs": [],
   "source": [
    "def markers_from_trips(trips):\n",
    "    pass"
   ]
  },
  {
   "cell_type": "code",
   "execution_count": null,
   "metadata": {},
   "outputs": [],
   "source": [
    "trip_markers = markers_from_trips(cleaned_trips)"
   ]
  },
  {
   "cell_type": "code",
   "execution_count": null,
   "metadata": {},
   "outputs": [],
   "source": [
    "cleaned_trips[0:4]"
   ]
  },
  {
   "cell_type": "code",
   "execution_count": null,
   "metadata": {},
   "outputs": [],
   "source": [
    "trip_markers and len(trip_markers) # 1000\n",
    "\n",
    "list(map(lambda marker: marker.location, trip_markers[0:4]))\n",
    "# [[40.64499, -73.78115],\n",
    "#  [40.766931, -73.982098],\n",
    "#  [40.77773, -73.951902],\n",
    "#  [40.795678, -73.971049]]"
   ]
  },
  {
   "cell_type": "markdown",
   "metadata": {},
   "source": [
    "Ok, now that we have a function that creates locations, and a function that creates markers, it is time to write a function to plot a map. \n",
    "\n",
    "Write a function called `map_from` that, provided the first argument of a list location and second argument an integer representing the `zoom_start`, returns a `folium` map the corresponding location and `zoom_start` attributes.\n",
    "\n",
    "> Hint: The following is how to write a map with folium:\n",
    "> ```python \n",
    "    folium.Map(location=location, zoom_start=zoom_amount)\n",
    "> ```"
   ]
  },
  {
   "cell_type": "code",
   "execution_count": null,
   "metadata": {},
   "outputs": [],
   "source": [
    "def map_from(location, zoom_amount):\n",
    "    pass"
   ]
  },
  {
   "cell_type": "code",
   "execution_count": null,
   "metadata": {},
   "outputs": [],
   "source": [
    "times_square_map = map_from([40.7589, -73.9851], 15)\n",
    "times_square_map and times_square_map.location # [40.7589, -73.9851]\n",
    "times_square_map and times_square_map.zoom_start # 15"
   ]
  },
  {
   "cell_type": "code",
   "execution_count": null,
   "metadata": {
    "scrolled": true
   },
   "outputs": [],
   "source": [
    "times_square_marker and times_square_marker.add_to(times_square_map)\n",
    "times_square_map"
   ]
  },
  {
   "cell_type": "markdown",
   "metadata": {},
   "source": [
    "Now that we have a marker and a map, now let's write a function that adds a lot of markers to a map.  This function should add each marker in the list to the map object then return the updated map object."
   ]
  },
  {
   "cell_type": "code",
   "execution_count": null,
   "metadata": {},
   "outputs": [],
   "source": [
    "manhattan_map = map_from([40.7589, -73.9851], 13)"
   ]
  },
  {
   "cell_type": "code",
   "execution_count": null,
   "metadata": {},
   "outputs": [],
   "source": [
    "def add_markers(markers, map_obj):\n",
    "    pass"
   ]
  },
  {
   "cell_type": "code",
   "execution_count": null,
   "metadata": {
    "scrolled": false
   },
   "outputs": [],
   "source": [
    "map_with_markers = add_markers(trip_markers, manhattan_map)"
   ]
  },
  {
   "cell_type": "code",
   "execution_count": null,
   "metadata": {},
   "outputs": [],
   "source": [
    "map_with_markers"
   ]
  },
  {
   "cell_type": "markdown",
   "metadata": {},
   "source": [
    "### Using Nearest Neighbors"
   ]
  },
  {
   "cell_type": "markdown",
   "metadata": {},
   "source": [
    "Ok, let's write a function that given a latitude and longitude will predict the distance for us.  We'll do this by first finding the nearest trips given a latitude and longitude. "
   ]
  },
  {
   "cell_type": "markdown",
   "metadata": {},
   "source": [
    "Here we once again apply the nearest neighbors formula. As a first step, write a function named `distance_location` that calculates the distance in pickup location between two trips."
   ]
  },
  {
   "cell_type": "code",
   "execution_count": null,
   "metadata": {},
   "outputs": [],
   "source": [
    "import math\n",
    "\n",
    "def distance_location(selected_trip, neighbor_trip):\n",
    "    pass"
   ]
  },
  {
   "cell_type": "code",
   "execution_count": null,
   "metadata": {},
   "outputs": [],
   "source": [
    "first_trip = {'pickup_latitude': 40.64499, 'pickup_longitude': -73.78115, 'trip_distance': 18.38}\n",
    "second_trip = {'pickup_latitude': 40.766931, 'pickup_longitude': -73.982098, 'trip_distance': 1.3}\n",
    "distance_first_and_second = distance_location(first_trip, second_trip)\n",
    "\n",
    "distance_first_and_second and round(distance_first_and_second, 3) # 0.235"
   ]
  },
  {
   "cell_type": "markdown",
   "metadata": {},
   "source": [
    "Ok, next write a function called `distance_between_neighbors` that adds a new key-value pair, called `distance_from_selected`, that calculates the distance of the `neighbor_trip` from the `selected_trip`."
   ]
  },
  {
   "cell_type": "code",
   "execution_count": null,
   "metadata": {},
   "outputs": [],
   "source": [
    "def distance_between_neighbors(selected_trip, neighbor_trip):\n",
    "    pass"
   ]
  },
  {
   "cell_type": "code",
   "execution_count": null,
   "metadata": {},
   "outputs": [],
   "source": [
    "distance_between_neighbors(first_trip, second_trip)\n",
    "\n",
    "# {'distance_from_selected': 0.23505256047318146,\n",
    "#  'pickup_latitude': 40.766931,\n",
    "#  'pickup_longitude': -73.982098,\n",
    "#  'trip_distance': 1.3}"
   ]
  },
  {
   "cell_type": "markdown",
   "metadata": {},
   "source": [
    "Ok, now our `neighbor_trip` has another attribute called `distance_from_selected`, that indicates the distance from the `neighbor_trip`'s pickup location from the `selected_trip`."
   ]
  },
  {
   "cell_type": "markdown",
   "metadata": {},
   "source": [
    "> ** Understand the data:** Our dictionary now has a few attributes, two of which say distance.  Let's make sure we understand the difference. \n",
    "> * **`distance_from_selected`:** This is our calculation of the distance of the neighbor's pickup location from the selected trip.\n",
    "> * **`trip_distance`:** This is the attribute we were provided initially.  It tells us the length of the neighbor's taxi trip from pickup to drop-off.  "
   ]
  },
  {
   "cell_type": "markdown",
   "metadata": {},
   "source": [
    "Next, write a function called `distance_all` that provided a list of neighbors, returns each of those neighbors with their respective `distance_from_selected` numbers."
   ]
  },
  {
   "cell_type": "code",
   "execution_count": null,
   "metadata": {},
   "outputs": [],
   "source": [
    "def distance_all(selected_individual, neighbors):\n",
    "    pass"
   ]
  },
  {
   "cell_type": "code",
   "execution_count": null,
   "metadata": {},
   "outputs": [],
   "source": [
    "cleaned_trips and distance_all(first_trip, cleaned_trips[0:4])"
   ]
  },
  {
   "cell_type": "markdown",
   "metadata": {},
   "source": [
    "Now write the nearest neighbors formula to calculate the distance of the `selected_trip` from all of the `cleaned_trips` in our dataset.  If no number is provided, it should return the top 3 neighbors."
   ]
  },
  {
   "cell_type": "code",
   "execution_count": null,
   "metadata": {},
   "outputs": [],
   "source": [
    "def nearest_neighbors(selected_trip, trips, number = 3):\n",
    "    pass"
   ]
  },
  {
   "cell_type": "code",
   "execution_count": null,
   "metadata": {},
   "outputs": [],
   "source": [
    "new_trip = {'pickup_latitude': 40.64499,\n",
    "'pickup_longitude': -73.78115,\n",
    "'trip_distance': 18.38}\n",
    "\n",
    "nearest_three_neighbors = nearest_neighbors(new_trip, cleaned_trips or [], number = 3)\n",
    "nearest_three_neighbors\n",
    "# [{'distance_from_selected': 0.0004569288784918792,\n",
    "#   'pickup_latitude': 40.64483,\n",
    "#   'pickup_longitude': -73.781578,\n",
    "#   'trip_distance': 7.78},\n",
    "#  {'distance_from_selected': 0.0011292165425673159,\n",
    "#   'pickup_latitude': 40.644657,\n",
    "#   'pickup_longitude': -73.782229,\n",
    "#   'trip_distance': 12.7},\n",
    "#  {'distance_from_selected': 0.0042359798158141185,\n",
    "#   'pickup_latitude': 40.648509,\n",
    "#   'pickup_longitude': -73.783508,\n",
    "#   'trip_distance': 17.3}]"
   ]
  },
  {
   "cell_type": "markdown",
   "metadata": {},
   "source": [
    "Ok great! Now that we can provide a new trip location, and find the distances of the three nearest trips, we can take  calculate an estimate of the trip distance for that new trip location.  \n",
    "\n",
    "We do so simply by calculating the average of it's nearest neighbors."
   ]
  },
  {
   "cell_type": "code",
   "execution_count": null,
   "metadata": {},
   "outputs": [],
   "source": [
    "import statistics\n",
    "def mean_distance(neighbors):\n",
    "    nearest_distances = list(map(lambda neighbor: neighbor['trip_distance'], neighbors))\n",
    "    return round(statistics.mean(nearest_distances), 3)\n",
    "\n",
    "nearest_three_neighbors = nearest_neighbors(new_trip, cleaned_trips or [], number = 3)\n",
    "distance_estimate_of_selected_trip = mean_distance(nearest_three_neighbors) # 12.593\n",
    "distance_estimate_of_selected_trip"
   ]
  },
  {
   "cell_type": "markdown",
   "metadata": {},
   "source": [
    "### Choosing the correct number of neighbors"
   ]
  },
  {
   "cell_type": "markdown",
   "metadata": {},
   "source": [
    "Now, as we know from the last lesson, one tricky element is to determine how many neighbors to choose, our $k$ value,  before calculating the average.  We want to choose our value of $k$ such that it properly matches actual data, and so that it applies to new data.  There are fancy formulas to ensure that we **train** our algorithm so that our formula is optimized for all data, but here let's see different $k$ values manually.  This is the gist of choosing our $k$ value:\n",
    "\n",
    "* If we choose a $k$ value too low, our formula will be too heavily influenced by a single neighbor, whereas if our $k$ value is too high, we will be choosing so many neighbors that our nearest neighbors formula will not be adjust enough according to locations.\n",
    "\n",
    "Ok, let's experiment with this."
   ]
  },
  {
   "cell_type": "markdown",
   "metadata": {},
   "source": [
    "First, let's choose a midtown location, to see what the trip distance would be.  A Google search reveals the coordinates of 51st and 7th avenue to be the following."
   ]
  },
  {
   "cell_type": "code",
   "execution_count": null,
   "metadata": {},
   "outputs": [],
   "source": [
    "midtown_trip = dict(pickup_latitude=40.761710, pickup_longitude=-73.982760)"
   ]
  },
  {
   "cell_type": "code",
   "execution_count": null,
   "metadata": {},
   "outputs": [],
   "source": [
    "seven_closest = nearest_neighbors(midtown_trip, cleaned_trips, number = 7)\n",
    "seven_closest\n",
    "# [{'trip_distance': 0.58,\n",
    "#   'pickup_latitude': 40.761372,\n",
    "#   'pickup_longitude': -73.982602,\n",
    "#   'distance_from_selected': 0.00037310588309379025},\n",
    "#  {'trip_distance': 0.8,\n",
    "#   'pickup_latitude': 40.762444,\n",
    "#   'pickup_longitude': -73.98244,\n",
    "#   'distance_from_selected': 0.00080072217404248},\n",
    "#  {'trip_distance': 1.4,\n",
    "#   'pickup_latitude': 40.762767,\n",
    "#   'pickup_longitude': -73.982293,\n",
    "#   'distance_from_selected': 0.0011555682584735844},\n",
    "#  {'trip_distance': 8.3,\n",
    "#   'pickup_latitude': 40.762868,\n",
    "#   'pickup_longitude': -73.983233,\n",
    "#   'distance_from_selected': 0.0012508768924205918},\n",
    "#  {'trip_distance': 1.26,\n",
    "#   'pickup_latitude': 40.760057,\n",
    "#   'pickup_longitude': -73.983502,\n",
    "#   'distance_from_selected': 0.0018118976240381972},\n",
    "#  {'trip_distance': 0.0,\n",
    "#   'pickup_latitude': 40.760644,\n",
    "#   'pickup_longitude': -73.984531,\n",
    "#   'distance_from_selected': 0.002067074502774709},\n",
    "#  {'trip_distance': 1.72,\n",
    "#   'pickup_latitude': 40.762107,\n",
    "#   'pickup_longitude': -73.98479,\n",
    "#   'distance_from_selected': 0.0020684557041472677}]"
   ]
  },
  {
   "cell_type": "markdown",
   "metadata": {},
   "source": [
    "Looking at the `distance_from_selected` it appears that our our trips are still fairly close to our selected trip.  Notice that most of the data is within a distance of .002 away, so going to the top 7 nearest neighbors didn't seem to give us neighbors too far from each other, which is a good sign.\n",
    "\n",
    "Still, it's hard to know what distance in latitude and longitude really look like, so let's map the data. "
   ]
  },
  {
   "cell_type": "code",
   "execution_count": null,
   "metadata": {},
   "outputs": [],
   "source": [
    "midtown_location = location(midtown_trip) # [40.76171, -73.98276]\n",
    "midtown_map = map_from(midtown_location, 16)\n",
    "closest_markers = markers_from_trips(seven_closest)\n",
    "\n",
    "add_markers(closest_markers, midtown_map)"
   ]
  },
  {
   "cell_type": "markdown",
   "metadata": {},
   "source": [
    "Ok.  These locations stay fairly close to our estimated location of 51st street and 7th Avenue.  So they could be a good estimate of a trip distance."
   ]
  },
  {
   "cell_type": "code",
   "execution_count": null,
   "metadata": {},
   "outputs": [],
   "source": [
    "mean_distance(seven_closest) # 2.009"
   ]
  },
  {
   "cell_type": "markdown",
   "metadata": {},
   "source": [
    "Ok, now let's try a different location"
   ]
  },
  {
   "cell_type": "code",
   "execution_count": null,
   "metadata": {},
   "outputs": [],
   "source": [
    "charging_bull_closest = nearest_neighbors({'pickup_latitude': 40.7049, 'pickup_longitude': -74.0137}, cleaned_trips, number = 12)"
   ]
  },
  {
   "cell_type": "code",
   "execution_count": null,
   "metadata": {
    "scrolled": true
   },
   "outputs": [],
   "source": [
    "mean_distance(charging_bull_closest) # 3.145"
   ]
  },
  {
   "cell_type": "markdown",
   "metadata": {},
   "source": [
    "Ok, so there appears to be a significant difference between choosing a location near Times Square versus choosing a location at Wall Street."
   ]
  },
  {
   "cell_type": "markdown",
   "metadata": {},
   "source": [
    "### Summary"
   ]
  },
  {
   "cell_type": "markdown",
   "metadata": {},
   "source": [
    "In this lab, we used the nearest neighbors function to predict the length of a taxi ride.  To do so, we selected a location, then found a number of taxi rides closest to that location, and finally took the average trip lengths of the nearest taxi rides to find an estimate of the new ride's trip length.  You can see that even with just a little bit of math and programming we can begin to make meaningful predictions with data."
   ]
  }
 ],
 "metadata": {
  "kernelspec": {
   "display_name": "Python 3",
   "language": "python",
   "name": "python3"
  },
  "language_info": {
   "codemirror_mode": {
    "name": "ipython",
    "version": 3
   },
   "file_extension": ".py",
   "mimetype": "text/x-python",
   "name": "python",
   "nbconvert_exporter": "python",
   "pygments_lexer": "ipython3",
   "version": "3.6.9"
  }
 },
 "nbformat": 4,
 "nbformat_minor": 2
}
